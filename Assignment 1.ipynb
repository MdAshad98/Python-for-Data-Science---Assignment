{
 "cells": [
  {
   "cell_type": "code",
   "execution_count": 2,
   "id": "72305333",
   "metadata": {
    "scrolled": true
   },
   "outputs": [
    {
     "name": "stdout",
     "output_type": "stream",
     "text": [
      "Reverse of the integer 76542 is:  24567\n"
     ]
    }
   ],
   "source": [
    "# Reverse a given integer number [input:76542, output:24567]\n",
    "\n",
    "a1 = 76542\n",
    "b1 = (str(a1)[::-1])\n",
    "print (\"Reverse of the integer\",a1,\"is: \",b1)\n"
   ]
  },
  {
   "cell_type": "code",
   "execution_count": 53,
   "id": "7e07221e",
   "metadata": {},
   "outputs": [
    {
     "name": "stdout",
     "output_type": "stream",
     "text": [
      "Second largest number in the list is: 54\n"
     ]
    }
   ],
   "source": [
    "# Write a python program to find the second largest number in a list.\n",
    "\n",
    "list2 = [2,45,17,22,67,54]\n",
    "\n",
    "list2.sort()\n",
    "a2 = list2[-2]\n",
    "\n",
    "print (\"Second largest number in the list is:\", a2)\n"
   ]
  },
  {
   "cell_type": "code",
   "execution_count": 54,
   "id": "75ba4590",
   "metadata": {},
   "outputs": [
    {
     "name": "stdout",
     "output_type": "stream",
     "text": [
      "Length of the given string is:  19\n",
      "My name is Md Ashad has 5 words and 15 characters.\n"
     ]
    }
   ],
   "source": [
    "# Write a python program to calculate the number of words and the number of characters present in a string.\n",
    "\n",
    "str3 = \"My name is Md Ashad\"     \n",
    "\n",
    "len1 = len(str3)\n",
    "print (\"Length of the given string is: \",len1)   \n",
    "\n",
    "i=j=0\n",
    "while i < len1-1:\n",
    "    i = i + 1\n",
    "    if str3[i] == \" \" :\n",
    "        j = j + 1\n",
    "\n",
    "w3 = j + 1\n",
    "c3 = len1 - j\n",
    "\n",
    "print (str3, \"has\", w3 , \"words and\", c3 ,\"characters.\")\n"
   ]
  },
  {
   "cell_type": "code",
   "execution_count": 66,
   "id": "0af890d3",
   "metadata": {},
   "outputs": [
    {
     "name": "stdout",
     "output_type": "stream",
     "text": [
      "Enter an integer for calculating its prime factors:12\n",
      "Prime factors of 12 are: \n",
      "1\n",
      "2\n",
      "3\n",
      "4\n",
      "6\n",
      "6\n",
      "12\n",
      "12\n",
      "12\n",
      "12\n",
      "12\n"
     ]
    }
   ],
   "source": [
    "# Write program to compute prime factor of an integer.\n",
    "\n",
    "a4 = int (input (\"Enter an integer for calculating its prime factors:\"))\n",
    "\n",
    "def primefact(n):\n",
    "    i = 0\n",
    "    while i < n:\n",
    "        if a4 % n == 0:\n",
    "            i = i + 1\n",
    "            return n\n",
    "        else:\n",
    "            return primefact(n+1)\n",
    "            \n",
    "print (\"Prime factors of\", a4 , \"are: \") \n",
    "for x4 in range(1,a4):\n",
    "        print(primefact(x4))"
   ]
  },
  {
   "cell_type": "code",
   "execution_count": 26,
   "id": "eb53035d",
   "metadata": {},
   "outputs": [
    {
     "name": "stdout",
     "output_type": "stream",
     "text": [
      "Enter the length of fibonacci series: 6\n",
      "Fibonacci series for lenght 6 are:\n",
      "0\n",
      "1\n",
      "1\n",
      "2\n",
      "3\n",
      "5\n"
     ]
    }
   ],
   "source": [
    "# Write a python program to find the fibonacci series using recursion.\n",
    "\n",
    "a5 = int(input (\"Enter the length of fibonacci series: \"))\n",
    "\n",
    "def fabo(n):\n",
    "    if n == 0:\n",
    "        return 0\n",
    "    elif n == 1:\n",
    "        return 1\n",
    "    else:\n",
    "        return fabo(n-2) + fabo(n-1)\n",
    "    \n",
    "print (\"Fibonacci series for lenght\", a5 , \"are:\")\n",
    "for i in range(0,a5):\n",
    "    print (fabo(i))"
   ]
  }
 ],
 "metadata": {
  "kernelspec": {
   "display_name": "Python 3 (ipykernel)",
   "language": "python",
   "name": "python3"
  },
  "language_info": {
   "codemirror_mode": {
    "name": "ipython",
    "version": 3
   },
   "file_extension": ".py",
   "mimetype": "text/x-python",
   "name": "python",
   "nbconvert_exporter": "python",
   "pygments_lexer": "ipython3",
   "version": "3.9.7"
  }
 },
 "nbformat": 4,
 "nbformat_minor": 5
}
