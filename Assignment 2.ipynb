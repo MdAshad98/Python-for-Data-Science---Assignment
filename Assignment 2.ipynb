{
 "cells": [
  {
   "cell_type": "code",
   "execution_count": 108,
   "id": "1f55cd56",
   "metadata": {},
   "outputs": [
    {
     "name": "stdout",
     "output_type": "stream",
     "text": [
      "Random List generated: [[511 366 383 323 989]\n",
      " [ 99 743  18 596 107]\n",
      " [124 570 215 738  97]\n",
      " [114 639  48  74 545]\n",
      " [943 225 112 410 340]\n",
      " [847 254 421 609 209]\n",
      " [ 69 818 824 452   3]\n",
      " [341  40 323 597 560]\n",
      " [505 958 177 136 874]\n",
      " [100 381 861 181 359]\n",
      " [866 214 631 863 412]\n",
      " [291 994 589 681 900]\n",
      " [107 838 577 844 419]\n",
      " [827 395 791 718 147]\n",
      " [485 272 412 766 159]\n",
      " [181 583 366 372 155]\n",
      " [721 391 783 256 245]\n",
      " [360 972 951 968 130]\n",
      " [556 187 358 696 538]\n",
      " [435 981 825 306 781]]\n",
      "\n",
      "First 5 rows are: [[511 366 383 323 989]\n",
      " [ 99 743  18 596 107]\n",
      " [124 570 215 738  97]\n",
      " [114 639  48  74 545]\n",
      " [943 225 112 410 340]]\n",
      "\n",
      "Average value of first 5 rows are: 373.16\n",
      "\n",
      "Second element from each list are: [[366]\n",
      " [743]\n",
      " [570]\n",
      " [639]\n",
      " [225]\n",
      " [254]\n",
      " [818]\n",
      " [ 40]\n",
      " [958]\n",
      " [381]\n",
      " [214]\n",
      " [994]\n",
      " [838]\n",
      " [395]\n",
      " [272]\n",
      " [583]\n",
      " [391]\n",
      " [972]\n",
      " [187]\n",
      " [981]]\n",
      "\n",
      "Average value of second element from each list are: 541.05\n"
     ]
    }
   ],
   "source": [
    "import numpy as np\n",
    "np.random.seed(123)\n",
    "\n",
    "random_int = np.random.randint(1,high=1000,size=(20,5))\n",
    "print(\"Random List generated:\",random_int)\n",
    "\n",
    "# Q1 What is the average value of first 5 rows (2 decimal places)?\n",
    "\n",
    "avg_rd1 = random_int[0:5]\n",
    "print(\"\\nFirst 5 rows are:\",avg_rd1)\n",
    "print(\"\\nAverage value of first 5 rows are:\",avg_rd1.mean())\n",
    "\n",
    "# Q2 What is the average value of the second element in each of the list (2 decimal places)?\n",
    "\n",
    "avg_elm = random_int[:,1:2]\n",
    "print(\"\\nSecond element from each list are:\",avg_elm)\n",
    "print(\"\\nAverage value of second element from each list are:\",avg_elm.mean())\n",
    "\n"
   ]
  },
  {
   "cell_type": "code",
   "execution_count": 109,
   "id": "5d2cadc4",
   "metadata": {},
   "outputs": [
    {
     "name": "stdout",
     "output_type": "stream",
     "text": [
      "    Unnamed: 0           model   mpg  cyl   disp   hp  drat     wt   qsec  vs  \\\n",
      "2          NaN      Datsun 710  22.8    4  108.0   93  3.85  2.320  18.61   1   \n",
      "7          NaN       Merc 240D  24.4    4  146.7   62  3.69  3.190  20.00   1   \n",
      "8          NaN        Merc 230  22.8    4  140.8   95  3.92  3.150  22.90   1   \n",
      "17         NaN        Fiat 128  32.4    4   78.7   66  4.08  2.200  19.47   1   \n",
      "18         NaN     Honda Civic  30.4    4   75.7   52  4.93  1.615  18.52   1   \n",
      "19         NaN  Toyota Corolla  33.9    4   71.1   65  4.22  1.835  19.90   1   \n",
      "25         NaN       Fiat X1-9  27.3    4   79.0   66  4.08  1.935  18.90   1   \n",
      "31         NaN      Volvo 142E  21.4    4  121.0  109  4.11  2.780  18.60   1   \n",
      "\n",
      "    am  gear  carb  \n",
      "2    1     4     1  \n",
      "7    0     4     2  \n",
      "8    0     4     2  \n",
      "17   1     4     1  \n",
      "18   1     4     2  \n",
      "19   1     4     1  \n",
      "25   1     4     1  \n",
      "31   1     4     2  \n",
      "\n",
      "Total number of cars having 4 cylinder and 4 gears are: 8\n"
     ]
    }
   ],
   "source": [
    "import pandas as pd\n",
    "data = pd.read_html(\"https://gist.github.com/seankross/a412dfbd88b3db70b74b\")\n",
    "mtcars_df = data[0]\n",
    "\n",
    "# Q3 Get the names of car(s) with highest power to displacement ratio.\n",
    "\n",
    "\n",
    "\n",
    "# Q4 How many cars have 4 cylinder and 4 gears?\n",
    "\n",
    "countcars = mtcars_df[(mtcars_df['cyl'] == 4) & (mtcars_df['gear'] == 4)]\n",
    "\n",
    "print (countcars)\n",
    "\n",
    "print (\"\\nTotal number of cars having 4 cylinder and 4 gears are:\", countcars.model.count())\n"
   ]
  },
  {
   "cell_type": "code",
   "execution_count": 110,
   "id": "57e50b8a",
   "metadata": {},
   "outputs": [
    {
     "name": "stdout",
     "output_type": "stream",
     "text": [
      "Enter a string: AccelerateAI\n",
      "Number of Vowel present in AccelerateAI are:  7\n"
     ]
    }
   ],
   "source": [
    "# Write a python program to count the number of occurrences of all vowels present in a string\n",
    "\n",
    "Str1 = input(\"Enter a string: \")\n",
    "\n",
    "val = Str1.count('a') + Str1.count('e') + Str1.count('i') + Str1.count('o') + Str1.count('u') + Str1.count('A') + Str1.count('E') + Str1.count('I') + Str1.count('O') + Str1.count('U')\n",
    "        \n",
    "print(\"Number of Vowel present in\",Str1, \"are: \", val)\n",
    "    "
   ]
  }
 ],
 "metadata": {
  "kernelspec": {
   "display_name": "Python 3 (ipykernel)",
   "language": "python",
   "name": "python3"
  },
  "language_info": {
   "codemirror_mode": {
    "name": "ipython",
    "version": 3
   },
   "file_extension": ".py",
   "mimetype": "text/x-python",
   "name": "python",
   "nbconvert_exporter": "python",
   "pygments_lexer": "ipython3",
   "version": "3.9.7"
  }
 },
 "nbformat": 4,
 "nbformat_minor": 5
}
